{
  "cells": [
    {
      "cell_type": "code",
      "execution_count": 9,
      "metadata": {
        "cocalc": {
          "outputs": {
            "0": {
              "name": "input",
              "opts": {
                "password": false,
                "prompt": "Enter an arithmetic operation (+, -, *, /) or type 'quit' to exit: "
              },
              "output_type": "stream",
              "value": "2 + 3"
            },
            "1": {
              "name": "input",
              "opts": {
                "password": false,
                "prompt": "Enter an arithmetic operation (+, -, *, /) or type 'quit' to exit: "
              },
              "output_type": "stream"
            },
            "4": {
              "name": "input",
              "opts": {
                "password": false,
                "prompt": "Enter an arithmetic operation (+, -, *, /) or type 'quit' to exit: "
              },
              "output_type": "stream",
              "value": "2*1"
            }
          }
        },
        "colab": {
          "base_uri": "https://localhost:8080/"
        },
        "id": "bsdZwc5BXn9Q",
        "outputId": "43c75972-8b74-40f1-ba85-f0d5fa71abd6"
      },
      "outputs": [
        {
          "output_type": "stream",
          "name": "stdout",
          "text": [
            "Enter an arithmetic operation (+, -, *, /) or type 'quit' to exit. Example: 2.7 + 3.2  2.45 - 1.5\n",
            "2.45 - 1.5 = 0.9500000000000002\n",
            "Enter an arithmetic operation (+, -, *, /) or type 'quit' to exit. Example: 2.7 + 3.2  quit\n",
            "Exiting program...\n"
          ]
        }
      ],
      "source": [
        "while True:\n",
        "    # get user input\n",
        "    user_input = input(\"Enter an arithmetic operation (+, -, *, /) or type 'quit' to exit. Example: 2.7 + 3.2  \")\n",
        "\n",
        "    # check if user wants to quit\n",
        "    if user_input == \"quit\":\n",
        "        print(\"Exiting program...\")\n",
        "        break\n",
        "\n",
        "    # parse user input\n",
        "    num1, operator, num2 = user_input.split()\n",
        "    num1 = float(num1)\n",
        "    num2 = float(num2)\n",
        "\n",
        "    # perform arithmetic operation\n",
        "    if operator == \"+\":\n",
        "        result = num1 + num2\n",
        "    elif operator == \"-\":\n",
        "        result = num1 - num2\n",
        "    elif operator == \"*\":\n",
        "        result = num1 * num2\n",
        "    elif operator == \"/\":\n",
        "        if num2 == 0:\n",
        "            print(\"Error: Cannot divide by zero.\")\n",
        "            continue\n",
        "        result = num1 / num2\n",
        "    else:\n",
        "        print(\"Invalid operator. Please try again.\")\n",
        "        continue\n",
        "\n",
        "    # print result\n",
        "    print(f\"{num1} {operator} {num2} = {result}\")\n"
      ]
    },
    {
      "cell_type": "code",
      "execution_count": null,
      "metadata": {
        "id": "RuVI1zu9Xn9U"
      },
      "outputs": [],
      "source": [
        "\n"
      ]
    }
  ],
  "metadata": {
    "kernelspec": {
      "display_name": "Python 3 (system-wide)",
      "env": {},
      "language": "python",
      "metadata": {
        "cocalc": {
          "description": "Python 3 programming language",
          "priority": 100,
          "url": "https://www.python.org/"
        }
      },
      "name": "python3",
      "resource_dir": "/ext/jupyter/kernels/python3"
    },
    "language_info": {
      "codemirror_mode": {
        "name": "ipython",
        "version": 3
      },
      "file_extension": ".py",
      "mimetype": "text/x-python",
      "name": "python",
      "nbconvert_exporter": "python",
      "pygments_lexer": "ipython3",
      "version": "3.8.10"
    },
    "colab": {
      "provenance": []
    }
  },
  "nbformat": 4,
  "nbformat_minor": 0
}